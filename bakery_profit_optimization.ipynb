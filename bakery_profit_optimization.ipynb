{
 "cells": [
  {
   "cell_type": "markdown",
   "metadata": {},
   "source": [
    "# Bakery Resource Scheduling Example #\n",
    "\n",
    "## Description ##\n",
    "\n",
    "Consultant for boutique cake bakery that sell 2 types of cakes\n",
    "\n",
    "* 30 day month\n",
    "* There is:\n",
    "  * 1 oven\n",
    "  * 2 bakers\n",
    "  * 1 packaging packer - only works 22 days\n",
    "\n",
    "* Different resource needs for the 2 types of cakes:\n",
    "\n",
    "|       | Cake A  | Cake B  |\n",
    "|-------| --------| --------|\n",
    "|Oven   | 0.5 days| 1 day   |\n",
    "|Bakers | 1 day   | 2.5 days|\n",
    "|Packers| 1 day   | 2 days  |\n",
    "\n",
    "|       | Cake A  | Cake B |\n",
    "|-------| --------| -------|\n",
    "|Profit $| 20.00  | 40.00 |\n",
    "\n",
    "**Objective is make decisions on what and how many cakes to produce to maximize profit?**\n",
    "\n",
    "## Components ##\n",
    "Decision Varibles:\n",
    "* A and B (Number of Cakes)\n",
    "\n",
    "Objective is to Maximize Profit\n",
    "* Profit = max(20 * A + 40 * B)\n",
    "\n",
    "Subject to:\n",
    "* A >= 0\n",
    "* B >= 0\n",
    "* 0.5A + 1B <=30\n",
    "* 1A + 2.5B <= 60\n",
    "* 1A + 2B <= 22\n",
    "\n"
   ]
  },
  {
   "cell_type": "markdown",
   "metadata": {},
   "source": [
    "## Solving with Pulp"
   ]
  },
  {
   "cell_type": "code",
   "execution_count": 11,
   "metadata": {},
   "outputs": [
    {
     "name": "stdout",
     "output_type": "stream",
     "text": [
      "Produce 0.0 Cake A\n",
      "Produce 11.0 Cake B\n",
      "Total Profit($) = 440.0\n"
     ]
    }
   ],
   "source": [
    "from pulp import *\n",
    "\n",
    "# Initialize Class\n",
    "model = LpProblem(\"Maximize Bakery Profits\", LpMaximize)\n",
    "\n",
    "# Define Decision Variables\n",
    "A = LpVariable('A', lowBound=0, cat='Integer')\n",
    "B = LpVariable('B', lowBound=0, cat='Integer')\n",
    "\n",
    "# Define Objective Function\n",
    "model += 20 * A + 40 * B\n",
    "\n",
    "# Define Constraints\n",
    "model += 0.5 * A + 1 * B <= 30\n",
    "model += 1 * A + 2.5 * B <= 60\n",
    "model += 1 * A + 2 * B <= 22\n",
    "\n",
    "# Solve Model\n",
    "model.solve()\n",
    "print(\"Produce {} Cake A\".format(A.varValue))\n",
    "print(\"Produce {} Cake B\".format(B.varValue))\n",
    "print(\"Total Profit($) =\", value(model.objective))"
   ]
  },
  {
   "cell_type": "code",
   "execution_count": null,
   "metadata": {},
   "outputs": [],
   "source": []
  }
 ],
 "metadata": {
  "kernelspec": {
   "display_name": "Python 3",
   "language": "python",
   "name": "python3"
  },
  "language_info": {
   "codemirror_mode": {
    "name": "ipython",
    "version": 3
   },
   "file_extension": ".py",
   "mimetype": "text/x-python",
   "name": "python",
   "nbconvert_exporter": "python",
   "pygments_lexer": "ipython3",
   "version": "3.7.6"
  }
 },
 "nbformat": 4,
 "nbformat_minor": 4
}
